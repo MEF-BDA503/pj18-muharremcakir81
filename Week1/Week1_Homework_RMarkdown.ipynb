{
 "cells": [
  {
   "cell_type": "markdown",
   "metadata": {},
   "source": [
    "---\n",
    "title: 'Week1 HomeWork: RMarkDown Examples'\n",
    "author: \"Muharrem Çakır\"\n",
    "date: \"October 15, 2018\"\n",
    "output: html_document\n",
    "---\n",
    "\n",
    "## Who am I and what is my aim ? \n",
    "\n",
    "My name is Muharrem Çakır. I have been working as Data Management Consultant at Obase. \n",
    "I am participant as different roles like developer, Architect or Team Leader in our customers' projects. Our Customers are in various sectors like retail, banking, airlines, Telco , etc. \n",
    "İn our projects I responsible to service optimum solutions to our customers who have DWH , BI or analytics projects.\n",
    "\n",
    "My aim is develop myself and help our customers especially about big data and analytic subjects.  \n",
    "\n",
    "Below, I added 3 examples about R and how we can use it in Data Science projects in various sectors.\n",
    "\n",
    "## Segmentation . How to perform k-means Clustering in R\n",
    "Customer Segmentation is very important. İf you can do is successfuly, Yo can manage your campaign or you can do any other predictive models like churn, propensity successfully. \n",
    "In this video, you can find how to perfomr k-means clustering method in R. \n",
    "\n",
    "<a href=\"https://www.youtube.com/watch?v=sAtnX3UJyN0\">Segmentation with k-means Clustering </a>\n",
    "\n",
    "\n",
    "## Customer churn analysis\n",
    "As thinking having a new customer is 10 times expensive than keeping  a existing customer , prediction to estimate who will leave is very important. We try to predict via a churn models. An example of Churn Modeling in R is below:\n",
    "\n",
    "\n",
    "<a href=\"https://www.youtube.com/watch?v=adG-9Jk3QbQ\">Data Science Demo - Customer Churn Analysis </a>\n",
    "\n",
    "\n",
    "## Data manipulations\n",
    "Data manipulation  is the most important step in data science Projects. it is observed in lots of projects that data manipalation step is equal %60-65 of all project time. Also it is very critical that if you don't do right things in this step your model's accuracy might be low.\n",
    "\n",
    "Here is a good source about data manipulation:\n",
    "\n",
    "<a href=\"https://www.youtube.com/watch?v=jWjqLW-u3hc\">Hands-on dplyr tutorial for faster data manipulation in R </a>"
   ]
  }
 ],
 "metadata": {
  "kernelspec": {
   "display_name": "R",
   "language": "R",
   "name": "ir"
  },
  "language_info": {
   "codemirror_mode": "r",
   "file_extension": ".r",
   "mimetype": "text/x-r-source",
   "name": "R",
   "pygments_lexer": "r",
   "version": "3.4.4"
  }
 },
 "nbformat": 4,
 "nbformat_minor": 2
}
